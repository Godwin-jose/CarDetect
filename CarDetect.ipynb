{
  "nbformat": 4,
  "nbformat_minor": 0,
  "metadata": {
    "colab": {
      "provenance": []
    },
    "kernelspec": {
      "name": "python3",
      "display_name": "Python 3"
    },
    "language_info": {
      "name": "python"
    }
  },
  "cells": [
    {
      "cell_type": "code",
      "execution_count": 1,
      "metadata": {
        "colab": {
          "base_uri": "https://localhost:8080/"
        },
        "id": "Tbhn0vRVf93V",
        "outputId": "4e0ce77e-239b-4479-8b5b-8d6e28efad52"
      },
      "outputs": [
        {
          "output_type": "stream",
          "name": "stderr",
          "text": [
            "YOLOv5 🚀 v7.0-294-gdb125a20 Python-3.10.12 torch-2.2.1+cu121 CPU\n"
          ]
        },
        {
          "output_type": "stream",
          "name": "stdout",
          "text": [
            "Setup complete ✅ (2 CPUs, 12.7 GB RAM, 29.0/107.7 GB disk)\n"
          ]
        }
      ],
      "source": [
        "!git clone https://github.com/Godwin-jose/CarDetect.git\n",
        "!git clone https://github.com/ultralytics/yolov5  # clone\n",
        "%cd yolov5\n",
        "%pip install -qr requirements.txt comet_ml  # install\n",
        "\n",
        "import torch\n",
        "import utils\n",
        "display = utils.notebook_init()  # checks"
      ]
    },
    {
      "cell_type": "code",
      "source": [
        "!python /content/CarDetect/detect.py --weights /content/CarDetect/car.pt --img 640 --conf 0.25 --source ../renault.jpg\n",
        "# display.Image(filename='runs/detect/exp/zidane.jpg', width=600)"
      ],
      "metadata": {
        "colab": {
          "base_uri": "https://localhost:8080/"
        },
        "id": "sXDSFPCBgRQ9",
        "outputId": "5e627eda-7354-4083-cee8-d3d84bcb4175"
      },
      "execution_count": 4,
      "outputs": [
        {
          "output_type": "stream",
          "name": "stdout",
          "text": [
            "\u001b[34m\u001b[1mdetect: \u001b[0mweights=['/content/CarDetect/car.pt'], source=../renault.jpg, data=data/coco128.yaml, imgsz=[640, 640], conf_thres=0.25, iou_thres=0.45, max_det=1000, device=, view_img=False, save_txt=False, save_csv=False, save_conf=False, save_crop=False, nosave=False, classes=None, agnostic_nms=False, augment=False, visualize=False, update=False, project=runs/detect, name=exp, exist_ok=False, line_thickness=3, hide_labels=False, hide_conf=False, half=False, dnn=False, vid_stride=1\n",
            "YOLOv5 🚀 v7.0-294-gdb125a20 Python-3.10.12 torch-2.2.1+cu121 CPU\n",
            "\n",
            "Fusing layers... \n",
            "Model summary: 157 layers, 7012822 parameters, 0 gradients, 15.8 GFLOPs\n",
            "image 1/1 /content/renault.jpg: 448x640 1 cars, 259.7ms\n",
            "Speed: 2.6ms pre-process, 259.7ms inference, 1.2ms NMS per image at shape (1, 3, 640, 640)\n",
            "Results saved to /content\n",
            "['cars']\n"
          ]
        }
      ]
    },
    {
      "cell_type": "code",
      "source": [
        "# Run the detect.py script\n",
        "%run /content/CarDetect/detect.py --weights /content/CarDetect/car.pt --img 640 --conf 0.25 --source ../renault.jpg\n",
        "# display.Image(filename='runs/detect/exp/zidane.jpg', width=600)\n",
        "# Access the out list after the script has been executed\n",
        "output=out\n"
      ],
      "metadata": {
        "colab": {
          "base_uri": "https://localhost:8080/"
        },
        "id": "kfsubOY6gUtS",
        "outputId": "fb0e6536-2369-4230-b686-8dc964fe781f"
      },
      "execution_count": 8,
      "outputs": [
        {
          "output_type": "stream",
          "name": "stderr",
          "text": [
            "\u001b[34m\u001b[1mdetect: \u001b[0mweights=['/content/CarDetect/car.pt'], source=../renault.jpg, data=data/coco128.yaml, imgsz=[640, 640], conf_thres=0.25, iou_thres=0.45, max_det=1000, device=, view_img=False, save_txt=False, save_csv=False, save_conf=False, save_crop=False, nosave=False, classes=None, agnostic_nms=False, augment=False, visualize=False, update=False, project=runs/detect, name=exp, exist_ok=False, line_thickness=3, hide_labels=False, hide_conf=False, half=False, dnn=False, vid_stride=1\n",
            "YOLOv5 🚀 v7.0-294-gdb125a20 Python-3.10.12 torch-2.2.1+cu121 CPU\n",
            "\n",
            "Fusing layers... \n",
            "Model summary: 157 layers, 7012822 parameters, 0 gradients, 15.8 GFLOPs\n",
            "image 1/1 /content/renault.jpg: 448x640 1 cars, 284.6ms\n",
            "Speed: 3.0ms pre-process, 284.6ms inference, 1.2ms NMS per image at shape (1, 3, 640, 640)\n",
            "Results saved to /content\n",
            "['cars']\n"
          ]
        }
      ]
    },
    {
      "cell_type": "code",
      "source": [
        "output"
      ],
      "metadata": {
        "colab": {
          "base_uri": "https://localhost:8080/"
        },
        "id": "PbbWJPkjgfKi",
        "outputId": "9e6f4605-1253-4f71-f859-3b26716cd3f8"
      },
      "execution_count": 9,
      "outputs": [
        {
          "output_type": "execute_result",
          "data": {
            "text/plain": [
              "['cars']"
            ]
          },
          "metadata": {},
          "execution_count": 9
        }
      ]
    }
  ]
}